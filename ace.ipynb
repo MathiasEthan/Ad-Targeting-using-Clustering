{
 "cells": [
  {
   "cell_type": "code",
   "execution_count": 81,
   "metadata": {},
   "outputs": [],
   "source": [
    "#Importing the Libraries\n",
    "import numpy as np\n",
    "import pandas as pd\n",
    "import datetime\n",
    "import matplotlib\n",
    "import matplotlib.pyplot as plt\n",
    "from matplotlib import colors\n",
    "import seaborn as sns\n",
    "from sklearn.preprocessing import LabelEncoder\n",
    "from sklearn.preprocessing import StandardScaler\n",
    "from sklearn.decomposition import PCA\n",
    "from sklearn.cluster import KMeans\n",
    "import matplotlib.pyplot as plt, numpy as np\n",
    "from mpl_toolkits.mplot3d import Axes3D\n",
    "from sklearn.cluster import AgglomerativeClustering\n",
    "from matplotlib.colors import ListedColormap\n",
    "from sklearn import metrics\n",
    "import warnings\n",
    "import sys"
   ]
  },
  {
   "cell_type": "markdown",
   "metadata": {},
   "source": [
    "PRE PROCESSING DATA"
   ]
  },
  {
   "cell_type": "code",
   "execution_count": null,
   "metadata": {},
   "outputs": [
    {
     "name": "stdout",
     "output_type": "stream",
     "text": [
      "        Age  Gender  IncomeLevel  Country  City  AverageOrderValue  \\\n",
      "3  0.950813      -1          0.5        0     2          -0.112828   \n",
      "4 -0.400539      -1          1.0        0     7          17.443615   \n",
      "5  1.491353       1         -1.0        7     6          -0.110126   \n",
      "7  1.491353       0          0.0        3     0          -0.093097   \n",
      "8  0.545407       0          0.5        1     3          -0.008521   \n",
      "\n",
      "   FavoriteCategory  SecondFavoriteCategory  AverageSatisfactionScore  \\\n",
      "3                 6                       2                  0.463291   \n",
      "4                 2                       0                  0.435171   \n",
      "5                 6                       7                 -1.571379   \n",
      "7                 5                       7                  0.943098   \n",
      "8                 3                       6                  0.004028   \n",
      "\n",
      "   EmailConversionRate  SocialMediaConversionRate  SearchEngineConversionRate  \n",
      "3            -1.047689                   0.061700                    0.680264  \n",
      "4            -0.280606                   0.278411                    1.061862  \n",
      "5            -0.760058                   1.021348                    0.982924  \n",
      "7            -0.000580                   2.106609                   -0.430476  \n",
      "8            -1.205273                   0.068831                   -0.063551  \n"
     ]
    },
    {
     "name": "stderr",
     "output_type": "stream",
     "text": [
      "C:\\Users\\moksh\\AppData\\Local\\Temp\\ipykernel_23716\\1594687930.py:15: FutureWarning: Downcasting behavior in `replace` is deprecated and will be removed in a future version. To retain the old behavior, explicitly call `result.infer_objects(copy=False)`. To opt-in to the future behavior, set `pd.set_option('future.no_silent_downcasting', True)`\n",
      "  df['IncomeLevel'] = df['IncomeLevel'].replace({\n"
     ]
    }
   ],
   "source": [
    "df=pd.read_csv(\"ecommerce_customer_data - ecommerce_customer_data.csv.csv\")\n",
    "#dropping unecessary cols\n",
    "df=df.drop(columns=[\"CustomerServiceInteractions\",\"CustomerID\",\"RepeatCustomer\",\"PremiumMember\",\"HasReturnedItems\",\"RegistrationDate\",\"SocialMediaEngagementRate\",\"EmailEngagementRate\",\"MobileAppUsage\",\"TotalPurchases\",\"CustomerLifetimeValue\"])\n",
    "#dropping null rows of cols\n",
    "df = df.dropna(subset=[\"Age\",\"IncomeLevel\",\"Gender\",\"SecondFavoriteCategory\",\"FavoriteCategory\",\"Country\",\"City\"])\n",
    "\n",
    "#filling cols with mean of col\n",
    "df[\"AverageSatisfactionScore\"]=df[\"AverageSatisfactionScore\"].fillna(df[\"AverageSatisfactionScore\"].mean())\n",
    "df[\"SocialMediaConversionRate\"]=df[\"SocialMediaConversionRate\"].fillna(df[\"SocialMediaConversionRate\"].mean())\n",
    "df[\"SearchEngineConversionRate\"]=df[\"SearchEngineConversionRate\"].fillna(df[\"SearchEngineConversionRate\"].mean())\n",
    "df[\"AverageOrderValue\"]=df[\"AverageOrderValue\"].fillna(df[\"AverageOrderValue\"].mean())\n",
    "df[\"EmailConversionRate\"]=df[\"EmailConversionRate\"].fillna(df[\"EmailConversionRate\"].mean())\n",
    "\n",
    "#converting text into numbers for faster calcutions by the algorithm\n",
    "df['IncomeLevel'] = df['IncomeLevel'].replace({\n",
    "    'High': 0.5,\n",
    "    'Very High': 1,\n",
    "    'Medium': 0,\n",
    "    \"Low\": -1,\n",
    "})\n",
    "df[\"Gender\"] = df[\"Gender\"].replace({\n",
    "    \"Female\":-1,\n",
    "    \"Male\" : 1,\n",
    "})\n",
    "#removing neg ages\n",
    "df = df[df['Age'] >= 0]\n",
    "\n",
    "df['Gender'] = df['Gender'].apply(lambda x: 0 if isinstance(x, str) else x)\n",
    "\n",
    "#Convert categorical variables to numerical using LabelEncoder\n",
    "le = LabelEncoder()\n",
    "df['Country'] = le.fit_transform(df['Country'])\n",
    "df['City'] = le.fit_transform(df['City'])\n",
    "df['FavoriteCategory'] = le.fit_transform(df['FavoriteCategory'])\n",
    "df['SecondFavoriteCategory'] = le.fit_transform(df['SecondFavoriteCategory'])\n",
    "\n",
    "#Scale numerical features\n",
    "scaler = StandardScaler()\n",
    "numerical_columns = ['Age', 'AverageOrderValue', 'AverageSatisfactionScore', 'EmailConversionRate', \n",
    "                     'SocialMediaConversionRate', 'SearchEngineConversionRate']\n",
    "\n",
    "df[numerical_columns] = scaler.fit_transform(df[numerical_columns])\n",
    "\n",
    "print(df.head())\n",
    "\n",
    "\n",
    "\n",
    "\n",
    "\n",
    "\n"
   ]
  },
  {
   "cell_type": "markdown",
   "metadata": {},
   "source": [
    "DB SCAN"
   ]
  },
  {
   "cell_type": "code",
   "execution_count": null,
   "metadata": {},
   "outputs": [],
   "source": []
  }
 ],
 "metadata": {
  "kernelspec": {
   "display_name": "Python 3",
   "language": "python",
   "name": "python3"
  },
  "language_info": {
   "codemirror_mode": {
    "name": "ipython",
    "version": 3
   },
   "file_extension": ".py",
   "mimetype": "text/x-python",
   "name": "python",
   "nbconvert_exporter": "python",
   "pygments_lexer": "ipython3",
   "version": "3.12.6"
  }
 },
 "nbformat": 4,
 "nbformat_minor": 2
}
